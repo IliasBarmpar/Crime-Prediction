{
 "cells": [
  {
   "cell_type": "markdown",
   "metadata": {},
   "source": [
    "<div style=\"display: inline-block; text-align: center; float: left; margin-right: 25px;\">\n",
    "    <a href=\"https://www.linkedin.com/in/jason-wittenauer-28026110/\"><img src=\"bin/Profile.png\" align=left></a>\n",
    "</div>\n",
    "\n",
    "# Introduction to Geographical Time Series Prediction with Crime Data in R, SQL, and Tableau\n",
    "1/18/2020"
   ]
  },
  {
   "cell_type": "markdown",
   "metadata": {},
   "source": [
    "<img src=\"bin/Crime Scene.jpg\">"
   ]
  },
  {
   "cell_type": "markdown",
   "metadata": {},
   "source": [
    "## In this tutorial you will learn how to prepare geographical data for time series predictions.\n",
    "\n",
    "When reviewing geographical data, it can be difficult to prepare the data for an analysis. There are specific algorithms that can be used, but can be limited in what they do. An easy alternative to use is splitting up the data into grids and then adding a time point for each grid point. This will frame up the data in a way that is easy to understand and use for modeling. However, it does create an issue with the size of the data set. \n",
    "\n",
    "A five year crime data set can easily consist of 250,000 records. Once that is extrapolated into a time series grid on of a city, it can easily hit 75 million records. When dealing with data of this size, it is helpful to use a database to cleanse the data before sending it to a modeling script. The steps we will follow are listed below:\n",
    "\n",
    " - Importing data into a SQL Server database.\n",
    " - Cleansing and grouping data into a map grid.\n",
    " - Adding time data points to the set of grid data and filling in the gaps where no crimes occurred.\n",
    " - Importing the data into R\n",
    " - Running an XGBoost model to determine where crimes will occur on a specific day\n",
    " \n",
    "At the end, we will discuss the next steps for making the predictions more usable to end users."
   ]
  },
  {
   "cell_type": "markdown",
   "metadata": {},
   "source": [
    "### Prerequisites\n",
    "Before beginning this tutorial, you will need:\n",
    "- SQL Server Express installed\n",
    "- SQL Management Studio or similar IDE to interface with SQL Server\n",
    "- R installed\n",
    "- R Studio, Jupyter notebook, or other IDE to interface with R\n",
    "- A general working knowledge of SQL and R\n"
   ]
  },
  {
   "cell_type": "markdown",
   "metadata": {},
   "source": [
    "### Setup the Database\n",
    "Our prediction model will be using crime data for the Baltimore area from 2012 to 2017. This is located in the \"Data\" folder within this repo and the filename is \"Baltimore Incident Data.zip\". Before importing this data you will need to follow one of the options below to setup the database:\n",
    "\n",
    "#### Option 1\n",
    "- Restore a SQL database using the backup file located in the \"Database Objects\\Clean Backup\\\" folder.\n",
    "\n",
    "#### Option 2\n",
    "- Use the scripts located in the \"Database Objects\" folder under \"Tables\" and \"Procedures\" to manually create all of the objects."
   ]
  },
  {
   "cell_type": "markdown",
   "metadata": {},
   "source": [
    "### Import the Data\n",
    "Once the database has been successfully created, you can now import the data. This will require you to do the following:\n",
    "- Unzip the \"Baltimore Incident Data.zip\" file found in the \"Data\" folder.\n",
    "- Run the \"Insert_StagingCrime\" procedure and make sure it is pointed to the correct import file and to the correct format file (found in the \"Data\" folder named \"FormatFile.fmt\"). \n",
    "\n",
    "```sql\n",
    "EXEC Insert_StagingCrime\n",
    "```"
   ]
  },
  {
   "cell_type": "markdown",
   "metadata": {},
   "source": [
    "### Cleanse the Data and Add Time Series Data Points.\n",
    "Now that the data has been imported into the staging table, you can find it by running the below code in SQL Management Studio:\n",
    "```sql\n",
    "SELECT TOP 10 *\n",
    "FROM [dbo].[Staging_Crime]\n",
    "```\n",
    "\n",
    "Giving you the following results.\n",
    "\n",
    "| CrimeDate | CrimeTime | CrimeCode | Address | Description | InsideOutside | Weapon | Post | District | Neighborhood | Location | Premise | TotalIncidents |\n",
    "| --- | --- | --- | --- | --- | --- | --- | --- | --- | --- | --- | --- | --- |\n",
    "| 02/28/2017 | 23:50:00 | 6D | 2400 KEYWORTH AVE | LARCENY FROM AUTO | O | NULL | 533 | NORTHERN | Greenspring | (39.3348700000, -76.6590200000) | STREET | 1 |\n",
    "| 02/28/2017 | 23:36:00 | 4D | 200 DIENER PL | AGG. ASSAULT | I | HANDS | 843 | SOUTHWESTERN | Irvington | (39.2830300000, -76.6878200000) | APT/CONDO | 1 |\n",
    "| 02/28/2017 | 23:02:00 | 4E | 1800 N MOUNT ST | COMMON ASSAULT | I | HANDS | 742 | WESTERN | Sandtown-Winchester | (39.3092400000, -76.6449800000) | ROW/TOWNHO | 1 |\n",
    "| 02/28/2017 | 23:00:00 | 6D | 200 S CLINTON ST | LARCENY FROM AUTO | O | NULL | 231 | SOUTHEASTERN | Highlandtown | (39.2894600000, -76.5701900000) | STREET | 1 |\n",
    "| 02/28/2017 | 22:00:00 | 6E | 1300 TOWSON ST | LARCENY | O | NULL | 943 | SOUTHERN | Locust Point | (39.2707100000, -76.5911800000) | STREET | 1 |\n",
    "| 02/28/2017 | 21:40:00 | 6J | 1000 WILMOT CT | LARCENY | O | NULL | 312 | EASTERN | Oldtown | (39.2993600000, -76.6034100000) | STREET | 1 |\n",
    "| 02/28/2017 | 21:40:00 | 6J | 2400 PENNSYLVANIA AVE | LARCENY | O | NULL | 733 | WESTERN | Penn North | (39.3094200000, -76.6417700000) | STREET | 1 |\n",
    "| 02/28/2017 | 21:30:00 | 5D | 1500 STACK ST | BURGLARY | I | NULL | 943 | SOUTHERN | Riverside | (39.2721500000, -76.6033600000) | OTHER/RESI | 1 |\n",
    "| 02/28/2017 | 21:30:00 | 6D | 2100 KOKO LN | LARCENY FROM AUTO | O | NULL | 731 | WESTERN | Panway/Braddish Avenue | (39.3117800000, -76.6633200000) | STREET | 1 |\n",
    "| 02/28/2017 | 21:10:00 | 3CF | 800 W LEXINGTON ST | ROBBERY - COMMERCIAL | O | FIREARM | 712 | WESTERN | Poppleton | (39.2910500000, -76.6310600000) | STREET | 1 |"
   ]
  },
  {
   "cell_type": "markdown",
   "metadata": {},
   "source": [
    "### Cleanse the Data and Create Grids of the Map\n",
    "Next we can move our data into a \"Crime\" table that has the correct data types associated with it. During this step we will also split out the location field into longitude and latitude fields. All of the logic to complete these steps can be done by running the below execution statement:\n",
    "\n",
    "```sql\n",
    "EXEC Insert_Crime\n",
    "```\n",
    "\n",
    "And now we will have data populating the \"Crime\" table. This will allow us to complete the next step to create a grid on the city and assign each crime to one of the grid squares. You will notice that we create two grids (small and large). This allows us to create features that are at the crime location and a little bit further away from the crime location. Essentially giving us hotspots of crime throughout the city.\n",
    "\n",
    "Run the below code to create the grids and assign a SmallGridID and LargeGridID to the \"Crimes\" table:\n",
    "\n",
    "```sql\n",
    "EXEC Update_CrimeCoordinates\n",
    "```\n",
    "\n",
    "You can view some of the table data by running the following:\n",
    "\n",
    "```sql\n",
    "SELECT TOP 10 c.CrimeId, gs.*\n",
    "FROM [dbo].[Crime] c\n",
    "JOIN GridSmall gs\n",
    "\tON gs.GridSmallId = c.GridSmallId\n",
    "```\n",
    "\n",
    "| CrimeId | GridSmallId | BotLeftLatitude | TopRightLatitude | BotLeftLongitude | TopRightLongitude |\n",
    "| --- | --- | --- | --- | --- | --- |\n",
    "| 1 | 31012 | 39.3341282000001 | 39.3349965000001 | -76.6594308000001 | -76.6585152000001 |\n",
    "| 2 | 19121 | 39.2828985 | 39.2837668 | -76.68873 | -76.6878144 |\n",
    "| 3 | 25198 | 39.3089475000001 | 39.3098158000001 | -76.6456968000001 | -76.6447812000001 |\n",
    "| 4 | 20657 | 39.2889766 | 39.2898449 | -76.5706176000001 | -76.5697020000001 |\n",
    "| 5 | 16212 | 39.269874 | 39.2707423 | -76.5916764000001 | -76.5907608000001 |\n",
    "| 6 | 22832 | 39.2985279000001 | 39.2993962000001 | -76.6035792000001 | -76.6026636000001 |\n",
    "| 7 | 25202 | 39.3089475000001 | 39.3098158000001 | -76.6420344000001 | -76.6411188000001 |\n",
    "| 8 | 16601 | 39.2716106 | 39.2724789 | -76.6035792000001 | -76.6026636000001 |\n",
    "| 9 | 25781 | 39.3115524000001 | 39.3124207000001 | -76.6640088 | -76.6630932 |\n",
    "| 10 | 20992 | 39.2907132 | 39.2915815 | -76.6319628000001 | -76.6310472000001 |"
   ]
  },
  {
   "cell_type": "markdown",
   "metadata": {},
   "source": [
    "### Create Crime Grid and Lag Features\n",
    "The last step we need to complete is creating the entire grid of the map for all time periods we want to evaulate. In our case, that is one grid point per day to determine if a crime is going to occur. To complete this step, the below procedure needs to be executed:\n",
    "\n",
    "```sql\n",
    "EXEC Insert_CrimeGrid\n",
    "```\n",
    "\n",
    "This step can take quite awhile to run. On my laptop, it ran for about 1 hour and the subsequent table (\"CrimeGrid\") contains about 75 million records. The nice part is that the output is saved into a table, so we will not have to run it in our script where large data operations might not run as efficiently as inside a database. \n",
    "\n",
    "Also during this step we will be creating \"lag features\". These will be columns that tell us how many times within the last day, two days, week, month, etc. that a crime occured on the grid square. This is essentially helping us do a \"hotspot\" analysis of the data, which could then be used to look at other grid squares nearby to see if the crime is localized to our single square or if it is clustered to all nearby squares similar to aftershocks in an earthquake."
   ]
  },
  {
   "cell_type": "markdown",
   "metadata": {},
   "source": [
    "### Prediction Setup\n",
    "With all of the data cleansing and feature engineering being done on the database side, the code for doing predictions is quite simple. In our example we will be using XGBoost in R to analyze five years of training data to predict future crimes.\n",
    "\n",
    "To start, we load our libraries."
   ]
  },
  {
   "cell_type": "code",
   "execution_count": 1,
   "metadata": {},
   "outputs": [
    {
     "name": "stderr",
     "output_type": "stream",
     "text": [
      "Loading required package: gplots\n",
      "\n",
      "Attaching package: 'gplots'\n",
      "\n",
      "The following object is masked from 'package:stats':\n",
      "\n",
      "    lowess\n",
      "\n",
      "Loading required package: lattice\n",
      "Loading required package: ggplot2\n",
      "Registered S3 methods overwritten by 'ggplot2':\n",
      "  method         from \n",
      "  [.quosures     rlang\n",
      "  c.quosures     rlang\n",
      "  print.quosures rlang\n"
     ]
    }
   ],
   "source": [
    "# Load required libraries\n",
    "library(RODBC)\n",
    "library(xgboost)\n",
    "library(ROCR)\n",
    "library(caret)"
   ]
  },
  {
   "cell_type": "markdown",
   "metadata": {},
   "source": [
    "Then import the data into R directly from the database. You could also export the data to text files and read in CSV data if that is your preferred method. The queries to pull the data are just written as SQL statements with some date limiters. These could be re-written to pull directly from reporting stored procedures with date parameters for a more productionized version of the code."
   ]
  },
  {
   "cell_type": "code",
   "execution_count": 2,
   "metadata": {},
   "outputs": [
    {
     "data": {
      "text/html": [
       "<table>\n",
       "<thead><tr><th scope=col>target</th><th scope=col>GridSmallId</th><th scope=col>GridLargeId</th><th scope=col>DayOfWeek</th><th scope=col>MonthOfYear</th><th scope=col>DayOfYear</th><th scope=col>Year</th><th scope=col>PriorIncident1Day</th><th scope=col>PriorIncident2Days</th><th scope=col>PriorIncident3Days</th><th scope=col>PriorIncident7Days</th><th scope=col>PriorIncident14Days</th><th scope=col>PriorIncident30Days</th><th scope=col>PriorIncident1Day_Large</th><th scope=col>PriorIncident2Days_Large</th><th scope=col>PriorIncident3Days_Large</th><th scope=col>PriorIncident7Days_Large</th><th scope=col>PriorIncident14Days_Large</th><th scope=col>PriorIncident30Days_Large</th></tr></thead>\n",
       "<tbody>\n",
       "\t<tr><td>0   </td><td>3780</td><td>990 </td><td>5   </td><td>9   </td><td>262 </td><td>2013</td><td>0   </td><td>0   </td><td>0   </td><td>0   </td><td>0   </td><td>0   </td><td>0   </td><td>0   </td><td>0   </td><td>0   </td><td>0   </td><td>0   </td></tr>\n",
       "\t<tr><td>0   </td><td>3781</td><td>991 </td><td>5   </td><td>9   </td><td>262 </td><td>2013</td><td>0   </td><td>0   </td><td>0   </td><td>0   </td><td>0   </td><td>0   </td><td>0   </td><td>0   </td><td>0   </td><td>0   </td><td>0   </td><td>0   </td></tr>\n",
       "\t<tr><td>0   </td><td>3782</td><td>991 </td><td>5   </td><td>9   </td><td>262 </td><td>2013</td><td>0   </td><td>0   </td><td>0   </td><td>0   </td><td>0   </td><td>0   </td><td>0   </td><td>0   </td><td>0   </td><td>0   </td><td>0   </td><td>0   </td></tr>\n",
       "\t<tr><td>0   </td><td>3783</td><td>992 </td><td>5   </td><td>9   </td><td>262 </td><td>2013</td><td>0   </td><td>0   </td><td>0   </td><td>0   </td><td>0   </td><td>0   </td><td>0   </td><td>0   </td><td>0   </td><td>0   </td><td>0   </td><td>0   </td></tr>\n",
       "\t<tr><td>0   </td><td>3784</td><td>992 </td><td>5   </td><td>9   </td><td>262 </td><td>2013</td><td>0   </td><td>0   </td><td>0   </td><td>0   </td><td>0   </td><td>0   </td><td>0   </td><td>0   </td><td>0   </td><td>0   </td><td>0   </td><td>0   </td></tr>\n",
       "\t<tr><td>0   </td><td>3785</td><td>993 </td><td>5   </td><td>9   </td><td>262 </td><td>2013</td><td>0   </td><td>0   </td><td>0   </td><td>0   </td><td>0   </td><td>0   </td><td>0   </td><td>0   </td><td>0   </td><td>0   </td><td>0   </td><td>0   </td></tr>\n",
       "</tbody>\n",
       "</table>\n"
      ],
      "text/latex": [
       "\\begin{tabular}{r|lllllllllllllllllll}\n",
       " target & GridSmallId & GridLargeId & DayOfWeek & MonthOfYear & DayOfYear & Year & PriorIncident1Day & PriorIncident2Days & PriorIncident3Days & PriorIncident7Days & PriorIncident14Days & PriorIncident30Days & PriorIncident1Day\\_Large & PriorIncident2Days\\_Large & PriorIncident3Days\\_Large & PriorIncident7Days\\_Large & PriorIncident14Days\\_Large & PriorIncident30Days\\_Large\\\\\n",
       "\\hline\n",
       "\t 0    & 3780 & 990  & 5    & 9    & 262  & 2013 & 0    & 0    & 0    & 0    & 0    & 0    & 0    & 0    & 0    & 0    & 0    & 0   \\\\\n",
       "\t 0    & 3781 & 991  & 5    & 9    & 262  & 2013 & 0    & 0    & 0    & 0    & 0    & 0    & 0    & 0    & 0    & 0    & 0    & 0   \\\\\n",
       "\t 0    & 3782 & 991  & 5    & 9    & 262  & 2013 & 0    & 0    & 0    & 0    & 0    & 0    & 0    & 0    & 0    & 0    & 0    & 0   \\\\\n",
       "\t 0    & 3783 & 992  & 5    & 9    & 262  & 2013 & 0    & 0    & 0    & 0    & 0    & 0    & 0    & 0    & 0    & 0    & 0    & 0   \\\\\n",
       "\t 0    & 3784 & 992  & 5    & 9    & 262  & 2013 & 0    & 0    & 0    & 0    & 0    & 0    & 0    & 0    & 0    & 0    & 0    & 0   \\\\\n",
       "\t 0    & 3785 & 993  & 5    & 9    & 262  & 2013 & 0    & 0    & 0    & 0    & 0    & 0    & 0    & 0    & 0    & 0    & 0    & 0   \\\\\n",
       "\\end{tabular}\n"
      ],
      "text/markdown": [
       "\n",
       "| target | GridSmallId | GridLargeId | DayOfWeek | MonthOfYear | DayOfYear | Year | PriorIncident1Day | PriorIncident2Days | PriorIncident3Days | PriorIncident7Days | PriorIncident14Days | PriorIncident30Days | PriorIncident1Day_Large | PriorIncident2Days_Large | PriorIncident3Days_Large | PriorIncident7Days_Large | PriorIncident14Days_Large | PriorIncident30Days_Large |\n",
       "|---|---|---|---|---|---|---|---|---|---|---|---|---|---|---|---|---|---|---|\n",
       "| 0    | 3780 | 990  | 5    | 9    | 262  | 2013 | 0    | 0    | 0    | 0    | 0    | 0    | 0    | 0    | 0    | 0    | 0    | 0    |\n",
       "| 0    | 3781 | 991  | 5    | 9    | 262  | 2013 | 0    | 0    | 0    | 0    | 0    | 0    | 0    | 0    | 0    | 0    | 0    | 0    |\n",
       "| 0    | 3782 | 991  | 5    | 9    | 262  | 2013 | 0    | 0    | 0    | 0    | 0    | 0    | 0    | 0    | 0    | 0    | 0    | 0    |\n",
       "| 0    | 3783 | 992  | 5    | 9    | 262  | 2013 | 0    | 0    | 0    | 0    | 0    | 0    | 0    | 0    | 0    | 0    | 0    | 0    |\n",
       "| 0    | 3784 | 992  | 5    | 9    | 262  | 2013 | 0    | 0    | 0    | 0    | 0    | 0    | 0    | 0    | 0    | 0    | 0    | 0    |\n",
       "| 0    | 3785 | 993  | 5    | 9    | 262  | 2013 | 0    | 0    | 0    | 0    | 0    | 0    | 0    | 0    | 0    | 0    | 0    | 0    |\n",
       "\n"
      ],
      "text/plain": [
       "  target GridSmallId GridLargeId DayOfWeek MonthOfYear DayOfYear Year\n",
       "1 0      3780        990         5         9           262       2013\n",
       "2 0      3781        991         5         9           262       2013\n",
       "3 0      3782        991         5         9           262       2013\n",
       "4 0      3783        992         5         9           262       2013\n",
       "5 0      3784        992         5         9           262       2013\n",
       "6 0      3785        993         5         9           262       2013\n",
       "  PriorIncident1Day PriorIncident2Days PriorIncident3Days PriorIncident7Days\n",
       "1 0                 0                  0                  0                 \n",
       "2 0                 0                  0                  0                 \n",
       "3 0                 0                  0                  0                 \n",
       "4 0                 0                  0                  0                 \n",
       "5 0                 0                  0                  0                 \n",
       "6 0                 0                  0                  0                 \n",
       "  PriorIncident14Days PriorIncident30Days PriorIncident1Day_Large\n",
       "1 0                   0                   0                      \n",
       "2 0                   0                   0                      \n",
       "3 0                   0                   0                      \n",
       "4 0                   0                   0                      \n",
       "5 0                   0                   0                      \n",
       "6 0                   0                   0                      \n",
       "  PriorIncident2Days_Large PriorIncident3Days_Large PriorIncident7Days_Large\n",
       "1 0                        0                        0                       \n",
       "2 0                        0                        0                       \n",
       "3 0                        0                        0                       \n",
       "4 0                        0                        0                       \n",
       "5 0                        0                        0                       \n",
       "6 0                        0                        0                       \n",
       "  PriorIncident14Days_Large PriorIncident30Days_Large\n",
       "1 0                         0                        \n",
       "2 0                         0                        \n",
       "3 0                         0                        \n",
       "4 0                         0                        \n",
       "5 0                         0                        \n",
       "6 0                         0                        "
      ]
     },
     "metadata": {},
     "output_type": "display_data"
    }
   ],
   "source": [
    "# Set seed\n",
    "set.seed(1001)\n",
    "\n",
    "# Read in data\n",
    "dbhandle <- odbcDriverConnect('driver={SQL Server};server=DESKTOP-VLN71V7\\\\SQLEXPRESS;database=crime;trusted_connection=true')\n",
    "\n",
    "train <- sqlQuery(dbhandle, 'select IncidentOccurred as target, GridSmallId, GridLargeId, DayOfWeek, MonthOfYear, DayOfYear, Year, PriorIncident1Day, PriorIncident2Days, PriorIncident3Days, PriorIncident7Days, PriorIncident14Days, PriorIncident30Days, PriorIncident1Day_Large, PriorIncident2Days_Large, PriorIncident3Days_Large, PriorIncident7Days_Large, PriorIncident14Days_Large, PriorIncident30Days_Large from crimegrid where crimedate <= \\'2/20/2017\\' and crimedate >= \\'6/1/2012\\'')\n",
    "test <- sqlQuery(dbhandle, 'select IncidentOccurred as target, GridSmallId, GridLargeId, DayOfWeek, MonthOfYear, DayOfYear, Year, PriorIncident1Day, PriorIncident2Days, PriorIncident3Days, PriorIncident7Days, PriorIncident14Days, PriorIncident30Days, PriorIncident1Day_Large, PriorIncident2Days_Large, PriorIncident3Days_Large, PriorIncident7Days_Large, PriorIncident14Days_Large, PriorIncident30Days_Large from crimegrid where crimedate >= \\'2/21/2017\\' and crimedate <= \\'2/27/2017\\'')\n",
    "\n",
    "# Convert integers to numeric for DMatrix\n",
    "train[] <- lapply(train, as.numeric)\n",
    "test[] <- lapply(test, as.numeric)\n",
    "\n",
    "head(train)"
   ]
  },
  {
   "cell_type": "markdown",
   "metadata": {},
   "source": [
    "Notice in the test data set we are pull 7 days worth of data to test at once, but still keeping the features coming in as if we knew what happened in the prior day. This is just so we can test 7 days at once and see how multiple days worth of predictions look in our reporting at the very end."
   ]
  },
  {
   "cell_type": "markdown",
   "metadata": {},
   "source": [
    "### Create Feature Set and Model Parameters\n",
    "The features are just all of the columns that come after the first \"target\" column as defined by our SQL query. These are passed in as part of the labeling on the train and test data sets. "
   ]
  },
  {
   "cell_type": "code",
   "execution_count": 3,
   "metadata": {},
   "outputs": [
    {
     "name": "stdout",
     "output_type": "stream",
     "text": [
      " [1] \"GridSmallId\"               \"GridLargeId\"              \n",
      " [3] \"DayOfWeek\"                 \"MonthOfYear\"              \n",
      " [5] \"DayOfYear\"                 \"Year\"                     \n",
      " [7] \"PriorIncident1Day\"         \"PriorIncident2Days\"       \n",
      " [9] \"PriorIncident3Days\"        \"PriorIncident7Days\"       \n",
      "[11] \"PriorIncident14Days\"       \"PriorIncident30Days\"      \n",
      "[13] \"PriorIncident1Day_Large\"   \"PriorIncident2Days_Large\" \n",
      "[15] \"PriorIncident3Days_Large\"  \"PriorIncident7Days_Large\" \n",
      "[17] \"PriorIncident14Days_Large\" \"PriorIncident30Days_Large\"\n"
     ]
    }
   ],
   "source": [
    "# Get feature names (all but first column which is the target)\n",
    "feature.names <- names(train)[2:ncol(train)]\n",
    "\n",
    "print(feature.names)\n",
    "\n",
    "# Make train and test matrices\n",
    "dtrain <- xgb.DMatrix(data.matrix(train[,feature.names]), label=train$target)\n",
    "dtest <- xgb.DMatrix(data.matrix(test[,feature.names]), label=test$target)"
   ]
  },
  {
   "cell_type": "markdown",
   "metadata": {},
   "source": [
    "Next, setup the parameters for model training. We are just keeping them pretty basic for now. Make sure that the evaluation metric is AUC to try and maximize our True Positive Rate so police officers are not patrolling areas unnecessarily. There could be additional work to cover all predicted areas with clever patrolling, but we are not going to get into it during this tutorial."
   ]
  },
  {
   "cell_type": "code",
   "execution_count": 4,
   "metadata": {},
   "outputs": [],
   "source": [
    "# Training parameters\n",
    "watchlist <- list(eval = dtest, train = dtrain)\n",
    "\n",
    "param <- list(  objective           = \"binary:logistic\", \n",
    "                booster             = \"gbtree\",\n",
    "                eta                 = 0.01,\n",
    "                max_depth           = 10,\n",
    "                eval_metric         = \"auc\"\n",
    ")"
   ]
  },
  {
   "cell_type": "markdown",
   "metadata": {},
   "source": [
    "### Run the Model\n",
    "Now that everything is setup, we can run the model and see how well it is predicting. Keep in mind that this is using a pretty basic set of features just to demonstrate one way to deal with geographic time series data. While the data sets can get quite large, they are easy to understand and can run fairly quickly when using cloud based services like AWS.\n",
    "\n",
    "This particular training data set had 70 million rows and took about 30 minutes to complete 67 rounds of evaluation on my laptop."
   ]
  },
  {
   "cell_type": "code",
   "execution_count": 5,
   "metadata": {},
   "outputs": [
    {
     "name": "stdout",
     "output_type": "stream",
     "text": [
      "[14:30:32] WARNING: amalgamation/../src/learner.cc:686: Tree method is automatically selected to be 'approx' for faster speed. To use old behavior (exact greedy algorithm on single machine), set tree_method to 'exact'.\n",
      "[1]\teval-auc:0.858208\ttrain-auc:0.858555 \n",
      "Multiple eval metrics are present. Will use train_auc for early stopping.\n",
      "Will train until train_auc hasn't improved in 10 rounds.\n",
      "\n",
      "[2]\teval-auc:0.858208\ttrain-auc:0.858555 \n",
      "[3]\teval-auc:0.858208\ttrain-auc:0.858555 \n",
      "[4]\teval-auc:0.858208\ttrain-auc:0.858556 \n",
      "[5]\teval-auc:0.858208\ttrain-auc:0.858556 \n",
      "[6]\teval-auc:0.858208\ttrain-auc:0.858556 \n",
      "[7]\teval-auc:0.858311\ttrain-auc:0.858997 \n",
      "[8]\teval-auc:0.858311\ttrain-auc:0.858997 \n",
      "[9]\teval-auc:0.858311\ttrain-auc:0.858997 \n",
      "[10]\teval-auc:0.858315\ttrain-auc:0.859000 \n",
      "[11]\teval-auc:0.858436\ttrain-auc:0.859110 \n",
      "[12]\teval-auc:0.858436\ttrain-auc:0.859110 \n",
      "[13]\teval-auc:0.858512\ttrain-auc:0.859157 \n",
      "[14]\teval-auc:0.858493\ttrain-auc:0.859157 \n",
      "[15]\teval-auc:0.858496\ttrain-auc:0.859160 \n",
      "[16]\teval-auc:0.858498\ttrain-auc:0.859160 \n",
      "[17]\teval-auc:0.858498\ttrain-auc:0.859160 \n",
      "[18]\teval-auc:0.858342\ttrain-auc:0.859851 \n",
      "[19]\teval-auc:0.858177\ttrain-auc:0.859907 \n",
      "[20]\teval-auc:0.858228\ttrain-auc:0.859971 \n",
      "[21]\teval-auc:0.858231\ttrain-auc:0.859971 \n",
      "[22]\teval-auc:0.858206\ttrain-auc:0.860695 \n",
      "[23]\teval-auc:0.858207\ttrain-auc:0.860695 \n",
      "[24]\teval-auc:0.858731\ttrain-auc:0.860894 \n",
      "[25]\teval-auc:0.858702\ttrain-auc:0.860844 \n",
      "[26]\teval-auc:0.858607\ttrain-auc:0.860844 \n",
      "[27]\teval-auc:0.858574\ttrain-auc:0.860842 \n",
      "[28]\teval-auc:0.858602\ttrain-auc:0.860892 \n",
      "[29]\teval-auc:0.858576\ttrain-auc:0.860843 \n",
      "[30]\teval-auc:0.858574\ttrain-auc:0.860841 \n",
      "[31]\teval-auc:0.858607\ttrain-auc:0.860893 \n",
      "[32]\teval-auc:0.858578\ttrain-auc:0.860843 \n",
      "[33]\teval-auc:0.858611\ttrain-auc:0.860894 \n",
      "[34]\teval-auc:0.858612\ttrain-auc:0.860895 \n",
      "[35]\teval-auc:0.858614\ttrain-auc:0.860898 \n",
      "[36]\teval-auc:0.858615\ttrain-auc:0.860899 \n",
      "[37]\teval-auc:0.858616\ttrain-auc:0.860897 \n",
      "[38]\teval-auc:0.858573\ttrain-auc:0.860870 \n",
      "[39]\teval-auc:0.858546\ttrain-auc:0.860822 \n",
      "[40]\teval-auc:0.858575\ttrain-auc:0.860872 \n",
      "[41]\teval-auc:0.858622\ttrain-auc:0.860898 \n",
      "[42]\teval-auc:0.858578\ttrain-auc:0.860875 \n",
      "[43]\teval-auc:0.858583\ttrain-auc:0.860870 \n",
      "[44]\teval-auc:0.859223\ttrain-auc:0.861768 \n",
      "[45]\teval-auc:0.859220\ttrain-auc:0.861760 \n",
      "[46]\teval-auc:0.859221\ttrain-auc:0.861760 \n",
      "[47]\teval-auc:0.859099\ttrain-auc:0.861719 \n",
      "[48]\teval-auc:0.859112\ttrain-auc:0.861735 \n",
      "[49]\teval-auc:0.859112\ttrain-auc:0.861735 \n",
      "[50]\teval-auc:0.859094\ttrain-auc:0.861734 \n",
      "[51]\teval-auc:0.859125\ttrain-auc:0.861785 \n",
      "[52]\teval-auc:0.859021\ttrain-auc:0.861771 \n",
      "[53]\teval-auc:0.859028\ttrain-auc:0.861784 \n",
      "[54]\teval-auc:0.859029\ttrain-auc:0.861781 \n",
      "[55]\teval-auc:0.859028\ttrain-auc:0.861784 \n",
      "[56]\teval-auc:0.859035\ttrain-auc:0.861788 \n",
      "[57]\teval-auc:0.859037\ttrain-auc:0.861789 \n",
      "[58]\teval-auc:0.859035\ttrain-auc:0.861775 \n",
      "[59]\teval-auc:0.859035\ttrain-auc:0.861774 \n",
      "[60]\teval-auc:0.859010\ttrain-auc:0.861738 \n",
      "[61]\teval-auc:0.859011\ttrain-auc:0.861739 \n",
      "[62]\teval-auc:0.859039\ttrain-auc:0.861778 \n",
      "[63]\teval-auc:0.859016\ttrain-auc:0.861739 \n",
      "[64]\teval-auc:0.859017\ttrain-auc:0.861741 \n",
      "[65]\teval-auc:0.859018\ttrain-auc:0.861746 \n",
      "[66]\teval-auc:0.859019\ttrain-auc:0.861747 \n",
      "[67]\teval-auc:0.859024\ttrain-auc:0.861755 \n",
      "Stopping. Best iteration:\n",
      "[57]\teval-auc:0.859037\ttrain-auc:0.861789\n",
      "\n"
     ]
    }
   ],
   "source": [
    "# Run model\n",
    "clf <- xgb.train(   params                  = param, \n",
    "                    data                    = dtrain, \n",
    "                    nrounds                 = 100, \n",
    "                    verbose                 = 2, \n",
    "                    early_stopping_rounds   = 10,\n",
    "                    watchlist               = watchlist,\n",
    "                    maximize               = TRUE)"
   ]
  },
  {
   "cell_type": "markdown",
   "metadata": {},
   "source": [
    "### Review Importance Matrix\n",
    "Time to analyze our features to see which ones are rating highly in the model by looking at the importance matrix. This can help us determine whether the new features that we add are really worth it. This will come in handy when dealing with large data sets and trying to decide whether one more feature is really worth the extra processing time."
   ]
  },
  {
   "cell_type": "code",
   "execution_count": 6,
   "metadata": {},
   "outputs": [
    {
     "data": {
      "image/png": "[encoded data removed]",
      "text/plain": [
       "plot without title"
      ]
     },
     "metadata": {},
     "output_type": "display_data"
    }
   ],
   "source": [
    "# Compute feature importance matrix\n",
    "importance_matrix <- xgb.importance(feature.names, model = clf)\n",
    "\n",
    "# Graph important features\n",
    "xgb.plot.importance(importance_matrix[1:10,])"
   ]
  },
  {
   "cell_type": "markdown",
   "metadata": {},
   "source": [
    "It looks like the model it using a combination of small and large grid features to determine if an incident will occur on the current day. It is interesting that the longer term features seem to be more important, indicating a history of criminal activity in the area and surrounding areas."
   ]
  },
  {
   "cell_type": "markdown",
   "metadata": {},
   "source": [
    "### Predict on Test and Check ROC Curve\n",
    "The last step is to check our predictions against the test data set and see how well they did. We always hope that the ROC curve will spike up really high and really quick, but that is not always the case. In our example, we have a decent score with only basic features included in the model. This definitely shows us that we can do the predictions and more time should be invested to make it better."
   ]
  },
  {
   "cell_type": "code",
   "execution_count": 8,
   "metadata": {},
   "outputs": [
    {
     "data": {
      "image/png": "[encoded data removed]",
      "text/plain": [
       "Plot with title \"ROC Curve w/ Thresholds\""
      ]
     },
     "metadata": {},
     "output_type": "display_data"
    }
   ],
   "source": [
    "# Predict on test data\n",
    "preds <- predict(clf, dtest)\n",
    "\n",
    "# Graph AUC curve\n",
    "xgb.pred <- prediction(preds, test$target)\n",
    "xgb.perf <- performance(xgb.pred, \"tpr\", \"fpr\")\n",
    "\n",
    "plot(xgb.perf,\n",
    "     avg=\"threshold\",\n",
    "     colorize=TRUE,\n",
    "     lwd=1,\n",
    "     main=\"ROC Curve w/ Thresholds\",\n",
    "     print.cutoffs.at=seq(0, 1, by=0.05),\n",
    "     text.adj=c(-0.5, 0.5),\n",
    "     text.cex=0.5)\n",
    "grid(col=\"lightgray\")\n",
    "axis(1, at=seq(0, 1, by=0.1))\n",
    "axis(2, at=seq(0, 1, by=0.1))\n",
    "abline(v=c(0.1, 0.3, 0.5, 0.7, 0.9), col=\"lightgray\", lty=\"dotted\")\n",
    "abline(h=c(0.1, 0.3, 0.5, 0.7, 0.9), col=\"lightgray\", lty=\"dotted\")\n",
    "lines(x=c(0, 1), y=c(0, 1), col=\"black\", lty=\"dotted\")"
   ]
  },
  {
   "cell_type": "markdown",
   "metadata": {},
   "source": [
    "### Review the Confusion Matrix\n",
    "We know there is a decent AUC score but let's look at the actual output of what we predicted vs. what actually happened. The easiest way to do this is to review the confusion matrix. We want the top left and bottom right boxes (good predictions) to be big and the others (bad predictions) to be small. "
   ]
  },
  {
   "cell_type": "code",
   "execution_count": 9,
   "metadata": {},
   "outputs": [
    {
     "data": {
      "text/plain": [
       "Confusion Matrix and Statistics\n",
       "\n",
       "          Reference\n",
       "Prediction      0      1\n",
       "         0 280581    454\n",
       "         1     62    367\n",
       "                                         \n",
       "               Accuracy : 0.9982         \n",
       "                 95% CI : (0.998, 0.9983)\n",
       "    No Information Rate : 0.9971         \n",
       "    P-Value [Acc > NIR] : < 2.2e-16      \n",
       "                                         \n",
       "                  Kappa : 0.5864         \n",
       "                                         \n",
       " Mcnemar's Test P-Value : < 2.2e-16      \n",
       "                                         \n",
       "            Sensitivity : 0.447016       \n",
       "            Specificity : 0.999779       \n",
       "         Pos Pred Value : 0.855478       \n",
       "         Neg Pred Value : 0.998385       \n",
       "             Prevalence : 0.002917       \n",
       "         Detection Rate : 0.001304       \n",
       "   Detection Prevalence : 0.001524       \n",
       "      Balanced Accuracy : 0.723397       \n",
       "                                         \n",
       "       'Positive' Class : 1              \n",
       "                                         "
      ]
     },
     "metadata": {},
     "output_type": "display_data"
    }
   ],
   "source": [
    "# Set our cutoff threshold\n",
    "preds.resp <- ifelse(preds >= 0.5, 1, 0)\n",
    "\n",
    "# Create the confusion matrix\n",
    "confusionMatrix(as.factor(preds.resp), as.factor(test$target), positive = \"1\")\n"
   ]
  },
  {
   "cell_type": "markdown",
   "metadata": {},
   "source": [
    "Over the course of 7 days, it looks like there were 821 incidents and our model correctly predicted 367 of them. The other key point is that we incorrectly predicted 62 incidents, essentially sending police officers to areas where we thought a crime could occur but did not. At face value, this doesn't seem too bad but we would need to see how this affect general response times to criminal activity vs. what the current response times are at right now. The idea being that police officers are put in areas close enough to a crime that they can either prevent it with their presence or respond to it very quickly to prevent as much harm as possible."
   ]
  },
  {
   "cell_type": "markdown",
   "metadata": {},
   "source": [
    "### Prepare Data for Reporting\n",
    "Next we can add in the longitude and latitude coordinates for the test data set and export it to a CSV file. This will allow us to take a look at the actual predictions on a map in a BI tool like Tableau."
   ]
  },
  {
   "cell_type": "code",
   "execution_count": 10,
   "metadata": {},
   "outputs": [
    {
     "data": {
      "text/html": [
       "<table>\n",
       "<thead><tr><th scope=col>GridSmallId</th><th scope=col>target</th><th scope=col>GridLargeId.x</th><th scope=col>DayOfWeek</th><th scope=col>MonthOfYear</th><th scope=col>DayOfYear</th><th scope=col>Year</th><th scope=col>PriorIncident1Day</th><th scope=col>PriorIncident2Days</th><th scope=col>PriorIncident3Days</th><th scope=col>...</th><th scope=col>PriorIncident3Days_Large</th><th scope=col>PriorIncident7Days_Large</th><th scope=col>PriorIncident14Days_Large</th><th scope=col>PriorIncident30Days_Large</th><th scope=col>preds</th><th scope=col>BotLeftLatitude</th><th scope=col>TopRightLatitude</th><th scope=col>BotLeftLongitude</th><th scope=col>TopRightLongitude</th><th scope=col>GridLargeId.y</th></tr></thead>\n",
       "<tbody>\n",
       "\t<tr><td>1        </td><td>0        </td><td>1        </td><td>3        </td><td>2        </td><td>52       </td><td>2017     </td><td>0        </td><td>0        </td><td>0        </td><td>...      </td><td>0        </td><td>0        </td><td>0        </td><td>0        </td><td>0.2822689</td><td>39.20041 </td><td>39.20128 </td><td>-76.71162</td><td>-76.7107 </td><td>1        </td></tr>\n",
       "\t<tr><td>1        </td><td>0        </td><td>1        </td><td>5        </td><td>2        </td><td>54       </td><td>2017     </td><td>0        </td><td>0        </td><td>0        </td><td>...      </td><td>0        </td><td>0        </td><td>0        </td><td>0        </td><td>0.2822689</td><td>39.20041 </td><td>39.20128 </td><td>-76.71162</td><td>-76.7107 </td><td>1        </td></tr>\n",
       "\t<tr><td>1        </td><td>0        </td><td>1        </td><td>7        </td><td>2        </td><td>56       </td><td>2017     </td><td>0        </td><td>0        </td><td>0        </td><td>...      </td><td>0        </td><td>0        </td><td>0        </td><td>0        </td><td>0.2822689</td><td>39.20041 </td><td>39.20128 </td><td>-76.71162</td><td>-76.7107 </td><td>1        </td></tr>\n",
       "\t<tr><td>1        </td><td>0        </td><td>1        </td><td>4        </td><td>2        </td><td>53       </td><td>2017     </td><td>0        </td><td>0        </td><td>0        </td><td>...      </td><td>0        </td><td>0        </td><td>0        </td><td>0        </td><td>0.2822689</td><td>39.20041 </td><td>39.20128 </td><td>-76.71162</td><td>-76.7107 </td><td>1        </td></tr>\n",
       "\t<tr><td>1        </td><td>0        </td><td>1        </td><td>2        </td><td>2        </td><td>58       </td><td>2017     </td><td>0        </td><td>0        </td><td>0        </td><td>...      </td><td>0        </td><td>0        </td><td>0        </td><td>0        </td><td>0.2822689</td><td>39.20041 </td><td>39.20128 </td><td>-76.71162</td><td>-76.7107 </td><td>1        </td></tr>\n",
       "\t<tr><td>1        </td><td>0        </td><td>1        </td><td>1        </td><td>2        </td><td>57       </td><td>2017     </td><td>0        </td><td>0        </td><td>0        </td><td>...      </td><td>0        </td><td>0        </td><td>0        </td><td>0        </td><td>0.2822689</td><td>39.20041 </td><td>39.20128 </td><td>-76.71162</td><td>-76.7107 </td><td>1        </td></tr>\n",
       "</tbody>\n",
       "</table>\n"
      ],
      "text/latex": [
       "\\begin{tabular}{r|lllllllllllllllllllllllll}\n",
       " GridSmallId & target & GridLargeId.x & DayOfWeek & MonthOfYear & DayOfYear & Year & PriorIncident1Day & PriorIncident2Days & PriorIncident3Days & ... & PriorIncident3Days\\_Large & PriorIncident7Days\\_Large & PriorIncident14Days\\_Large & PriorIncident30Days\\_Large & preds & BotLeftLatitude & TopRightLatitude & BotLeftLongitude & TopRightLongitude & GridLargeId.y\\\\\n",
       "\\hline\n",
       "\t 1         & 0         & 1         & 3         & 2         & 52        & 2017      & 0         & 0         & 0         & ...       & 0         & 0         & 0         & 0         & 0.2822689 & 39.20041  & 39.20128  & -76.71162 & -76.7107  & 1        \\\\\n",
       "\t 1         & 0         & 1         & 5         & 2         & 54        & 2017      & 0         & 0         & 0         & ...       & 0         & 0         & 0         & 0         & 0.2822689 & 39.20041  & 39.20128  & -76.71162 & -76.7107  & 1        \\\\\n",
       "\t 1         & 0         & 1         & 7         & 2         & 56        & 2017      & 0         & 0         & 0         & ...       & 0         & 0         & 0         & 0         & 0.2822689 & 39.20041  & 39.20128  & -76.71162 & -76.7107  & 1        \\\\\n",
       "\t 1         & 0         & 1         & 4         & 2         & 53        & 2017      & 0         & 0         & 0         & ...       & 0         & 0         & 0         & 0         & 0.2822689 & 39.20041  & 39.20128  & -76.71162 & -76.7107  & 1        \\\\\n",
       "\t 1         & 0         & 1         & 2         & 2         & 58        & 2017      & 0         & 0         & 0         & ...       & 0         & 0         & 0         & 0         & 0.2822689 & 39.20041  & 39.20128  & -76.71162 & -76.7107  & 1        \\\\\n",
       "\t 1         & 0         & 1         & 1         & 2         & 57        & 2017      & 0         & 0         & 0         & ...       & 0         & 0         & 0         & 0         & 0.2822689 & 39.20041  & 39.20128  & -76.71162 & -76.7107  & 1        \\\\\n",
       "\\end{tabular}\n"
      ],
      "text/markdown": [
       "\n",
       "| GridSmallId | target | GridLargeId.x | DayOfWeek | MonthOfYear | DayOfYear | Year | PriorIncident1Day | PriorIncident2Days | PriorIncident3Days | ... | PriorIncident3Days_Large | PriorIncident7Days_Large | PriorIncident14Days_Large | PriorIncident30Days_Large | preds | BotLeftLatitude | TopRightLatitude | BotLeftLongitude | TopRightLongitude | GridLargeId.y |\n",
       "|---|---|---|---|---|---|---|---|---|---|---|---|---|---|---|---|---|---|---|---|---|\n",
       "| 1         | 0         | 1         | 3         | 2         | 52        | 2017      | 0         | 0         | 0         | ...       | 0         | 0         | 0         | 0         | 0.2822689 | 39.20041  | 39.20128  | -76.71162 | -76.7107  | 1         |\n",
       "| 1         | 0         | 1         | 5         | 2         | 54        | 2017      | 0         | 0         | 0         | ...       | 0         | 0         | 0         | 0         | 0.2822689 | 39.20041  | 39.20128  | -76.71162 | -76.7107  | 1         |\n",
       "| 1         | 0         | 1         | 7         | 2         | 56        | 2017      | 0         | 0         | 0         | ...       | 0         | 0         | 0         | 0         | 0.2822689 | 39.20041  | 39.20128  | -76.71162 | -76.7107  | 1         |\n",
       "| 1         | 0         | 1         | 4         | 2         | 53        | 2017      | 0         | 0         | 0         | ...       | 0         | 0         | 0         | 0         | 0.2822689 | 39.20041  | 39.20128  | -76.71162 | -76.7107  | 1         |\n",
       "| 1         | 0         | 1         | 2         | 2         | 58        | 2017      | 0         | 0         | 0         | ...       | 0         | 0         | 0         | 0         | 0.2822689 | 39.20041  | 39.20128  | -76.71162 | -76.7107  | 1         |\n",
       "| 1         | 0         | 1         | 1         | 2         | 57        | 2017      | 0         | 0         | 0         | ...       | 0         | 0         | 0         | 0         | 0.2822689 | 39.20041  | 39.20128  | -76.71162 | -76.7107  | 1         |\n",
       "\n"
      ],
      "text/plain": [
       "  GridSmallId target GridLargeId.x DayOfWeek MonthOfYear DayOfYear Year\n",
       "1 1           0      1             3         2           52        2017\n",
       "2 1           0      1             5         2           54        2017\n",
       "3 1           0      1             7         2           56        2017\n",
       "4 1           0      1             4         2           53        2017\n",
       "5 1           0      1             2         2           58        2017\n",
       "6 1           0      1             1         2           57        2017\n",
       "  PriorIncident1Day PriorIncident2Days PriorIncident3Days ...\n",
       "1 0                 0                  0                  ...\n",
       "2 0                 0                  0                  ...\n",
       "3 0                 0                  0                  ...\n",
       "4 0                 0                  0                  ...\n",
       "5 0                 0                  0                  ...\n",
       "6 0                 0                  0                  ...\n",
       "  PriorIncident3Days_Large PriorIncident7Days_Large PriorIncident14Days_Large\n",
       "1 0                        0                        0                        \n",
       "2 0                        0                        0                        \n",
       "3 0                        0                        0                        \n",
       "4 0                        0                        0                        \n",
       "5 0                        0                        0                        \n",
       "6 0                        0                        0                        \n",
       "  PriorIncident30Days_Large preds     BotLeftLatitude TopRightLatitude\n",
       "1 0                         0.2822689 39.20041        39.20128        \n",
       "2 0                         0.2822689 39.20041        39.20128        \n",
       "3 0                         0.2822689 39.20041        39.20128        \n",
       "4 0                         0.2822689 39.20041        39.20128        \n",
       "5 0                         0.2822689 39.20041        39.20128        \n",
       "6 0                         0.2822689 39.20041        39.20128        \n",
       "  BotLeftLongitude TopRightLongitude GridLargeId.y\n",
       "1 -76.71162        -76.7107          1            \n",
       "2 -76.71162        -76.7107          1            \n",
       "3 -76.71162        -76.7107          1            \n",
       "4 -76.71162        -76.7107          1            \n",
       "5 -76.71162        -76.7107          1            \n",
       "6 -76.71162        -76.7107          1            "
      ]
     },
     "metadata": {},
     "output_type": "display_data"
    }
   ],
   "source": [
    "# Read in the grid coordinates\n",
    "gridsmall <- sqlQuery(dbhandle, 'select * from gridsmall')\n",
    "\n",
    "# Merge the predictions with the test data\n",
    "results <- cbind(test, preds)\n",
    "\n",
    "# Merge the grid coordinates with the test data\n",
    "results <- merge(results, gridsmall, by=\"GridSmallId\")\n",
    "\n",
    "head(results)\n",
    "\n",
    "# Save to file\n",
    "write.csv(results,\"Data\\\\CrimePredictions.csv\", row.names = TRUE)"
   ]
  },
  {
   "cell_type": "markdown",
   "metadata": {},
   "source": [
    "### Visualizing the Predictions\n",
    "It is time to see what these predictions actually look like over the course of 7 days. The Tableau dashboard itself can be found here: \n",
    "- <a href=\"https://public.tableau.com/profile/jason.wittenauer#!/vizhome/CrimePrediction_15793180506290/CrimeMap\">Crime Prediction Dashboard</a>\n",
    "\n",
    "While looking at the predictions that were incorrect (red dots), it looks like they are pretty close to predictions that were correct. This would put police officers in the general vicinity of a crime occurring. So maybe the incorrect predictions are not affecting the overall results very much at all. An example screenshot is shown below with the correct predictions (blue) and incorrect predictions (red).\n",
    "\n",
    "#### Incorrect Predictions\n",
    "<img src=\"bin/Incorrect Predictions.png\">\n",
    "\n",
    "#### Incorrect and Correct Predictions\n",
    "<img src=\"bin/Incorrect and Correct Predictions.png\">\n",
    "\n",
    "Overall it does not seem too bad, but we will need more features and/or more data to capture all those missing predictions. There is probably a lot more we can do to visual the types of crimes that are occuring and try to key in on specific prediction modeling to handle each one different."
   ]
  },
  {
   "cell_type": "markdown",
   "metadata": {},
   "source": [
    "### What Next?\n",
    "This tutorial got us started with doing geographical time series predictions using crime data. We can see that the predictions are definitely working, but there is more work to be done with creating features. We might want to add in some other features that check a larger area for prior crime occurences. Another useful step would be to change our predictions to run hourly and map squad car patrol routes by time of day. Even if the predictions are not perfect, as long as you are putting a police officer in the general vicinity of a crime then they can respond much faster or even prevent it from occurring in the first place with just their presence."
   ]
  },
  {
   "cell_type": "code",
   "execution_count": null,
   "metadata": {},
   "outputs": [],
   "source": []
  }
 ],
 "metadata": {
  "kernelspec": {
   "display_name": "R",
   "language": "R",
   "name": "ir"
  },
  "language_info": {
   "codemirror_mode": "r",
   "file_extension": ".r",
   "mimetype": "text/x-r-source",
   "name": "R",
   "pygments_lexer": "r",
   "version": "3.6.1"
  }
 },
 "nbformat": 4,
 "nbformat_minor": 2
}

{
 "cells": [
  {
   "cell_type": "markdown",
   "metadata": {},
   "source": [
    "<div style=\"display: inline-block; text-align: center; float: left; margin-right: 25px;\">\n",
    "    <a href=\"https://www.linkedin.com/in/jason-wittenauer-28026110/\"><img src=\"bin/Profile.png\" align=left></a>\n",
    "</div>\n",
    "\n",
    "# Introduction to Geographical Time Series Prediction with Crime Data in R and SQL\n",
    "12/19/2019"
   ]
  },
  {
   "cell_type": "markdown",
   "metadata": {},
   "source": [
    "## In this tutorial you will learn how to prepare geographical data for time series predictions.\n",
    "\n",
    "When reviewing geographical data, you can group data points together in a grid over time to allow for easy modeling. This does create an issue with the size of the data. A five year crime data set can easily consist of 250,000 records. Once that is extrapolated into a time series grid on a map, it can easily hit 75 million records. When dealing with data of this size, it is helpful to use a database to cleanse the data before sending it to our script. The steps we will follow are listed below:\n",
    "\n",
    " - Importing data into a SQL Server database.\n",
    " - Cleansing and grouping data into a map grid.\n",
    " - Adding time data points to the set of grid data and filling in the gaps where no crimes occurred.\n",
    " - Importing the data into R\n",
    " - Running an XGBoost model to determine where crimes will occur on a specific day\n",
    " \n",
    "At the end, we will discuss the next steps for making the predictions more usable."
   ]
  },
  {
   "cell_type": "markdown",
   "metadata": {},
   "source": [
    "### Prerequisites\n",
    "Before beginning this tutorial, you will need:\n",
    "- SQL Server Express installed\n",
    "- SQL Management Studio or similar IDE to interface with SQL Server\n",
    "- R installed\n",
    "- R Studio, Jupyter notebook, or other IDE to interface with R\n",
    "- A general working knowledge of SQL and R\n"
   ]
  },
  {
   "cell_type": "markdown",
   "metadata": {},
   "source": [
    "### Setup the Database\n",
    "Our prediction model will be using crime data for the Baltimore area from 2012 to 2017. This is located in the \"Data\" folder within this repo and the filename is \"Baltimore Incident Data.zip\". Before importing this data you will need to follow one of the options below to setup the database:\n",
    "\n",
    "#### Option 1\n",
    "- Restore a SQL database using the backup file located in the \"Database Objects\\Clean Backup\\\" folder.\n",
    "\n",
    "#### Option 2\n",
    "- Use the scripts located in the \"Database Objects\" folder under \"Tables\" and \"Procedures\" to manually create all of the objects."
   ]
  },
  {
   "cell_type": "markdown",
   "metadata": {},
   "source": [
    "### Import the Data\n",
    "Once the database has been successfully created, you can now import the data. This will required you to do the following:\n",
    "- Unzip the \"Baltimore Incident Data.zip\" file found in the \"Data\" folder.\n",
    "- Run the \"Insert_StagingCrime\" procedure and make sure it is pointed to the correct import file and to the correct format file (found in the \"Data\" folder named \"FormatFile.fmt\"). \n",
    "\n",
    "```sql\n",
    "EXEC Insert_StagingCrime\n",
    "```"
   ]
  },
  {
   "cell_type": "markdown",
   "metadata": {},
   "source": [
    "### Cleanse the Data and Add Time Series Data Points.\n",
    "Now that the data has been imported into the staging table, you can find it by running the below code in SQL Management Studio:\n",
    "```sql\n",
    "SELECT TOP 10 *\n",
    "FROM [dbo].[Staging_Crime]\n",
    "```\n",
    "\n",
    "Giving you the following results.\n",
    "\n",
    "| CrimeDate | CrimeTime | CrimeCode | Address | Description | InsideOutside | Weapon | Post | District | Neighborhood | Location | Premise | TotalIncidents |\n",
    "| --- | --- | --- | --- | --- | --- | --- | --- | --- | --- | --- | --- | --- |\n",
    "| 02/28/2017 | 23:50:00 | 6D | 2400 KEYWORTH AVE | LARCENY FROM AUTO | O | NULL | 533 | NORTHERN | Greenspring | (39.3348700000, -76.6590200000) | STREET | 1 |\n",
    "| 02/28/2017 | 23:36:00 | 4D | 200 DIENER PL | AGG. ASSAULT | I | HANDS | 843 | SOUTHWESTERN | Irvington | (39.2830300000, -76.6878200000) | APT/CONDO | 1 |\n",
    "| 02/28/2017 | 23:02:00 | 4E | 1800 N MOUNT ST | COMMON ASSAULT | I | HANDS | 742 | WESTERN | Sandtown-Winchester | (39.3092400000, -76.6449800000) | ROW/TOWNHO | 1 |\n",
    "| 02/28/2017 | 23:00:00 | 6D | 200 S CLINTON ST | LARCENY FROM AUTO | O | NULL | 231 | SOUTHEASTERN | Highlandtown | (39.2894600000, -76.5701900000) | STREET | 1 |\n",
    "| 02/28/2017 | 22:00:00 | 6E | 1300 TOWSON ST | LARCENY | O | NULL | 943 | SOUTHERN | Locust Point | (39.2707100000, -76.5911800000) | STREET | 1 |\n",
    "| 02/28/2017 | 21:40:00 | 6J | 1000 WILMOT CT | LARCENY | O | NULL | 312 | EASTERN | Oldtown | (39.2993600000, -76.6034100000) | STREET | 1 |\n",
    "| 02/28/2017 | 21:40:00 | 6J | 2400 PENNSYLVANIA AVE | LARCENY | O | NULL | 733 | WESTERN | Penn North | (39.3094200000, -76.6417700000) | STREET | 1 |\n",
    "| 02/28/2017 | 21:30:00 | 5D | 1500 STACK ST | BURGLARY | I | NULL | 943 | SOUTHERN | Riverside | (39.2721500000, -76.6033600000) | OTHER/RESI | 1 |\n",
    "| 02/28/2017 | 21:30:00 | 6D | 2100 KOKO LN | LARCENY FROM AUTO | O | NULL | 731 | WESTERN | Panway/Braddish Avenue | (39.3117800000, -76.6633200000) | STREET | 1 |\n",
    "| 02/28/2017 | 21:10:00 | 3CF | 800 W LEXINGTON ST | ROBBERY - COMMERCIAL | O | FIREARM | 712 | WESTERN | Poppleton | (39.2910500000, -76.6310600000) | STREET | 1 |"
   ]
  },
  {
   "cell_type": "markdown",
   "metadata": {},
   "source": [
    "### Cleanse the Data and Create Grids of the Map\n",
    "Next we can move our data into a \"Crime\" table that has the correct data types associated with it. During this step we will also split out the location field into longitude and latitude fields. All of the logic to complete these steps can be done by running the below execution statement:\n",
    "\n",
    "```sql\n",
    "EXEC Insert_Crime\n",
    "```\n",
    "\n",
    "And now we will have data populating the \"Crime\" table. This will allow us to complete the next step to create a grid on the city and assign each crime to one of the grid squares. You will notice that we create two grids (small and large). While not covered in this tutorial, the database is setup to allow for features that are close and a little bit further away from the crime location. We will only be using the small grid in our example.\n",
    "\n",
    "Run the below code to create the grids and assign a SmallGridID to the \"Crimes\" table:\n",
    "\n",
    "```sql\n",
    "EXEC Update_CrimeCoordinates\n",
    "```\n",
    "\n",
    "You can view some of the table data by running the following:\n",
    "\n",
    "```sql\n",
    "SELECT TOP 10 *\n",
    "FROM [dbo].[GridSmall]\n",
    "```\n",
    "\n",
    "| GridSmallId | BotLeftLatitude | TopRightLatitude | BotLeftLongitude | TopRightLongitude |\n",
    "| --- | --- | --- | --- | --- |\n",
    "| 1 | 39.20041 | 39.2012783 | -76.71162 | -76.7107044 |\n",
    "| 2 | 39.20041 | 39.2012783 | -76.7107044 | -76.7097888 |\n",
    "| 3 | 39.20041 | 39.2012783 | -76.7097888 | -76.7088732 |\n",
    "| 4 | 39.20041 | 39.2012783 | -76.7088732 | -76.7079576 |\n",
    "| 5 | 39.20041 | 39.2012783 | -76.7079576 | -76.707042 |\n",
    "| 6 | 39.20041 | 39.2012783 | -76.707042 | -76.7061264 |\n",
    "| 7 | 39.20041 | 39.2012783 | -76.7061264 | -76.7052108 |\n",
    "| 8 | 39.20041 | 39.2012783 | -76.7052108 | -76.7042952 |\n",
    "| 9 | 39.20041 | 39.2012783 | -76.7042952 | -76.7033796 |\n",
    "| 10 | 39.20041 | 39.2012783 | -76.7033796 | -76.702464 |\n",
    "    \n",
    "```sql\n",
    "SELECT TOP 10 CrimeId, GridSmallId\n",
    "FROM [dbo].[Crime]\n",
    "```\n",
    "\n",
    "<div style=\"display: inline-block;\">\n",
    "\n",
    "| CrimeId | GridSmallId |\n",
    "| --- | --- |\n",
    "| 1 | 31012 |\n",
    "| 2 | 19121 |\n",
    "| 3 | 25198 |\n",
    "| 4 | 20657 |\n",
    "| 5 | 16212 |\n",
    "| 6 | 22832 |\n",
    "| 7 | 25202 |\n",
    "| 8 | 16601 |\n",
    "| 9 | 25781 |\n",
    "| 10 | 20992 |\n",
    "\n",
    "</div>"
   ]
  },
  {
   "cell_type": "markdown",
   "metadata": {},
   "source": [
    "### Create Crime Grid and Lag Features\n",
    "The last step we need to complete is creating the entire grid of the map for all time periods we want to evaulate. In our case, that is one grid point per day to determine if a crime is going to occur. To complete this step, the below procedure needs to be executed:\n",
    "\n",
    "```sql\n",
    "EXEC Insert_CrimeGrid\n",
    "```\n",
    "\n",
    "This step can take quite awhile to run. On my laptop, it ran for about 1 hour and the subsequent table (\"CrimeGrid\") contains about 75 million records. The nice part is that the output is saved into a table, so we will not have to run it in our script where large data operations might not run as efficiently as inside a database. \n",
    "\n",
    "Also during this step we will be creating \"lag features\". These will be columns that tell us how many times within the last day, two days, week, month, etc. that a crime occured on the grid square. This is essentially helping us do a \"hotspot\" analysis of the data, which could then be used to look at other grid squares nearby to see if the crime is localized to our single square or if it is clustered to all nearby squares similar to aftershocks in an earthquake. Those particular features are not being created inside this example for simiplicity purposes."
   ]
  },
  {
   "cell_type": "markdown",
   "metadata": {},
   "source": [
    "### Prediction Setup\n",
    "With all of the data cleansing and feature engineering being done on the database side, the code for doing predictions is quite simple. In our example we will be using XGBoost in R to analyze five years of training data to predict future crimes.\n",
    "\n",
    "To start, we can load our libraries."
   ]
  },
  {
   "cell_type": "code",
   "execution_count": 8,
   "metadata": {},
   "outputs": [
    {
     "name": "stderr",
     "output_type": "stream",
     "text": [
      "Loading required package: gplots\n",
      "\n",
      "Attaching package: 'gplots'\n",
      "\n",
      "The following object is masked from 'package:stats':\n",
      "\n",
      "    lowess\n",
      "\n"
     ]
    }
   ],
   "source": [
    "# Load required libraries\n",
    "library(RODBC)\n",
    "library(xgboost)\n",
    "library(ROCR)"
   ]
  },
  {
   "cell_type": "markdown",
   "metadata": {},
   "source": [
    "Then import the data into R directly from the database. You could also export the data to text files and read in CSV data if that is your preferred method. The queries to pull the data are just written as SQL statements with some date limiters. These could be re-written to pull directly from reporting stored procedures with date parameters for a more productionized version of the code."
   ]
  },
  {
   "cell_type": "code",
   "execution_count": 13,
   "metadata": {},
   "outputs": [
    {
     "data": {
      "text/html": [
       "<table>\n",
       "<thead><tr><th scope=col>target</th><th scope=col>GridSmallId</th><th scope=col>DayOfWeek</th><th scope=col>MonthOfYear</th><th scope=col>PriorIncident1Day</th><th scope=col>PriorIncident2Days</th><th scope=col>PriorIncident3Days</th><th scope=col>PriorIncident7Days</th><th scope=col>PriorIncident14Days</th><th scope=col>PriorIncident30Days</th></tr></thead>\n",
       "<tbody>\n",
       "\t<tr><td>0</td><td>1</td><td>6</td><td>6</td><td>0</td><td>0</td><td>0</td><td>0</td><td>0</td><td>0</td></tr>\n",
       "\t<tr><td>0</td><td>2</td><td>6</td><td>6</td><td>0</td><td>0</td><td>0</td><td>0</td><td>0</td><td>0</td></tr>\n",
       "\t<tr><td>0</td><td>3</td><td>6</td><td>6</td><td>0</td><td>0</td><td>0</td><td>0</td><td>0</td><td>0</td></tr>\n",
       "\t<tr><td>0</td><td>4</td><td>6</td><td>6</td><td>0</td><td>0</td><td>0</td><td>0</td><td>0</td><td>0</td></tr>\n",
       "\t<tr><td>0</td><td>5</td><td>6</td><td>6</td><td>0</td><td>0</td><td>0</td><td>0</td><td>0</td><td>0</td></tr>\n",
       "\t<tr><td>0</td><td>6</td><td>6</td><td>6</td><td>0</td><td>0</td><td>0</td><td>0</td><td>0</td><td>0</td></tr>\n",
       "</tbody>\n",
       "</table>\n"
      ],
      "text/latex": [
       "\\begin{tabular}{r|llllllllll}\n",
       " target & GridSmallId & DayOfWeek & MonthOfYear & PriorIncident1Day & PriorIncident2Days & PriorIncident3Days & PriorIncident7Days & PriorIncident14Days & PriorIncident30Days\\\\\n",
       "\\hline\n",
       "\t 0 & 1 & 6 & 6 & 0 & 0 & 0 & 0 & 0 & 0\\\\\n",
       "\t 0 & 2 & 6 & 6 & 0 & 0 & 0 & 0 & 0 & 0\\\\\n",
       "\t 0 & 3 & 6 & 6 & 0 & 0 & 0 & 0 & 0 & 0\\\\\n",
       "\t 0 & 4 & 6 & 6 & 0 & 0 & 0 & 0 & 0 & 0\\\\\n",
       "\t 0 & 5 & 6 & 6 & 0 & 0 & 0 & 0 & 0 & 0\\\\\n",
       "\t 0 & 6 & 6 & 6 & 0 & 0 & 0 & 0 & 0 & 0\\\\\n",
       "\\end{tabular}\n"
      ],
      "text/markdown": [
       "\n",
       "| target | GridSmallId | DayOfWeek | MonthOfYear | PriorIncident1Day | PriorIncident2Days | PriorIncident3Days | PriorIncident7Days | PriorIncident14Days | PriorIncident30Days |\n",
       "|---|---|---|---|---|---|---|---|---|---|\n",
       "| 0 | 1 | 6 | 6 | 0 | 0 | 0 | 0 | 0 | 0 |\n",
       "| 0 | 2 | 6 | 6 | 0 | 0 | 0 | 0 | 0 | 0 |\n",
       "| 0 | 3 | 6 | 6 | 0 | 0 | 0 | 0 | 0 | 0 |\n",
       "| 0 | 4 | 6 | 6 | 0 | 0 | 0 | 0 | 0 | 0 |\n",
       "| 0 | 5 | 6 | 6 | 0 | 0 | 0 | 0 | 0 | 0 |\n",
       "| 0 | 6 | 6 | 6 | 0 | 0 | 0 | 0 | 0 | 0 |\n",
       "\n"
      ],
      "text/plain": [
       "  target GridSmallId DayOfWeek MonthOfYear PriorIncident1Day PriorIncident2Days\n",
       "1 0      1           6         6           0                 0                 \n",
       "2 0      2           6         6           0                 0                 \n",
       "3 0      3           6         6           0                 0                 \n",
       "4 0      4           6         6           0                 0                 \n",
       "5 0      5           6         6           0                 0                 \n",
       "6 0      6           6         6           0                 0                 \n",
       "  PriorIncident3Days PriorIncident7Days PriorIncident14Days PriorIncident30Days\n",
       "1 0                  0                  0                   0                  \n",
       "2 0                  0                  0                   0                  \n",
       "3 0                  0                  0                   0                  \n",
       "4 0                  0                  0                   0                  \n",
       "5 0                  0                  0                   0                  \n",
       "6 0                  0                  0                   0                  "
      ]
     },
     "metadata": {},
     "output_type": "display_data"
    }
   ],
   "source": [
    "# Set seed\n",
    "set.seed(1001)\n",
    "\n",
    "# Read in data\n",
    "dbhandle <- odbcDriverConnect('driver={SQL Server};server=yourserverconnection;database=crime;trusted_connection=true')\n",
    "\n",
    "train <- sqlQuery(dbhandle, 'select IncidentOccurred as target, GridSmallId, DayOfWeek, MonthOfYear, PriorIncident1Day, PriorIncident2Days, PriorIncident3Days, PriorIncident7Days, PriorIncident14Days, PriorIncident30Days from crimegrid where crimedate <= \\'2/20/2017\\' and crimedate >= \\'6/1/2012\\'')\n",
    "test <- sqlQuery(dbhandle, 'select IncidentOccurred as target, GridSmallId, DayOfWeek, MonthOfYear, PriorIncident1Day, PriorIncident2Days, PriorIncident3Days, PriorIncident7Days, PriorIncident14Days, PriorIncident30Days from crimegrid where crimedate > \\'2/20/2017\\'')\n",
    "\n",
    "# Convert integers to numeric for DMatrix\n",
    "train[] <- lapply(train, as.numeric)\n",
    "test[] <- lapply(test, as.numeric)\n",
    "\n",
    "head(train)"
   ]
  },
  {
   "cell_type": "markdown",
   "metadata": {},
   "source": [
    "### Create Feature Set and Model Parameters\n",
    "The features are just all of the columns that come after the first \"target\" column as defined by our query. These are passed in as part of the labeling on the train and test data sets. We are using AUC score to try and maximize our True Positive Rate so police officers are not patrolling areas unnecessarily."
   ]
  },
  {
   "cell_type": "code",
   "execution_count": 14,
   "metadata": {},
   "outputs": [
    {
     "name": "stdout",
     "output_type": "stream",
     "text": [
      "[1] \"GridSmallId\"         \"DayOfWeek\"           \"MonthOfYear\"        \n",
      "[4] \"PriorIncident1Day\"   \"PriorIncident2Days\"  \"PriorIncident3Days\" \n",
      "[7] \"PriorIncident7Days\"  \"PriorIncident14Days\" \"PriorIncident30Days\"\n"
     ]
    }
   ],
   "source": [
    "# Get feature names (all but first column which is the target)\n",
    "feature.names <- names(train)[2:ncol(train)]\n",
    "\n",
    "print(feature.names)\n",
    "\n",
    "# Make train and test matrices\n",
    "dtrain <- xgb.DMatrix(data.matrix(train[,feature.names]), label=train$target)\n",
    "dtest <- xgb.DMatrix(data.matrix(test[,feature.names]), label=test$target)\n",
    "\n",
    "# Training parameters\n",
    "watchlist <- list(eval = dtest, train = dtrain)\n",
    "\n",
    "param <- list(  objective           = \"binary:logistic\", \n",
    "                booster             = \"gbtree\",\n",
    "                eta                 = 0.001,\n",
    "                max_depth           = 6,  \n",
    "                subsample           = 0.6,\n",
    "                colsample_bytree    = 0.6,\n",
    "                eval_metric         = \"auc\"\n",
    ")"
   ]
  },
  {
   "cell_type": "markdown",
   "metadata": {},
   "source": [
    "### Run the Model\n",
    "Now that everything is setup, we can run the model and see how well we are predicting. Keep in mind that this is using a pretty basic set of features just to demonstrate one way to deal with geographic time series data. While the data sets can get quite large, they are easy to understand and can run fairly quickly when using cloud based services like AWS.\n",
    "\n",
    "This particular training data set had 70 million rows and took about 15 minutes to complete 17 rounds of evaluation."
   ]
  },
  {
   "cell_type": "code",
   "execution_count": 15,
   "metadata": {},
   "outputs": [
    {
     "name": "stdout",
     "output_type": "stream",
     "text": [
      "[12:46:53] WARNING: amalgamation/../src/learner.cc:686: Tree method is automatically selected to be 'approx' for faster speed. To use old behavior (exact greedy algorithm on single machine), set tree_method to 'exact'.\n",
      "[1]\teval-auc:0.759904\ttrain-auc:0.774055 \n",
      "Multiple eval metrics are present. Will use train_auc for early stopping.\n",
      "Will train until train_auc hasn't improved in 10 rounds.\n",
      "\n",
      "[2]\teval-auc:0.807186\ttrain-auc:0.808221 \n",
      "[3]\teval-auc:0.816206\ttrain-auc:0.818999 \n",
      "[4]\teval-auc:0.815869\ttrain-auc:0.818894 \n",
      "[5]\teval-auc:0.815595\ttrain-auc:0.819078 \n",
      "[6]\teval-auc:0.815610\ttrain-auc:0.819061 \n",
      "[7]\teval-auc:0.815849\ttrain-auc:0.820244 \n",
      "[8]\teval-auc:0.815918\ttrain-auc:0.819894 \n",
      "[9]\teval-auc:0.815964\ttrain-auc:0.819882 \n",
      "[10]\teval-auc:0.815912\ttrain-auc:0.819935 \n",
      "[11]\teval-auc:0.815789\ttrain-auc:0.819894 \n",
      "[12]\teval-auc:0.815935\ttrain-auc:0.819905 \n",
      "[13]\teval-auc:0.815841\ttrain-auc:0.819944 \n",
      "[14]\teval-auc:0.815827\ttrain-auc:0.819974 \n",
      "[15]\teval-auc:0.815887\ttrain-auc:0.819986 \n",
      "[16]\teval-auc:0.815938\ttrain-auc:0.819970 \n",
      "[17]\teval-auc:0.815848\ttrain-auc:0.819946 \n",
      "Stopping. Best iteration:\n",
      "[7]\teval-auc:0.815849\ttrain-auc:0.820244\n",
      "\n"
     ]
    }
   ],
   "source": [
    "# Run model\n",
    "clf <- xgb.train(   params                  = param, \n",
    "                    data                    = dtrain, \n",
    "                    nrounds                 = 100, \n",
    "                    verbose                 = 2, \n",
    "                    early_stopping_rounds   = 10,\n",
    "                    watchlist               = watchlist,\n",
    "                    maximize               = TRUE)"
   ]
  },
  {
   "cell_type": "markdown",
   "metadata": {},
   "source": [
    "### Review Importance Matrix\n",
    "We can analyze our features to see which ones are rating highly in the model by looking at the importance matrix. This can help us determine whether the new features that we add are really worth it. This will come in handy when dealing with large data sets and trying to decide whether one more feature is really worth the extra processing time."
   ]
  },
  {
   "cell_type": "code",
   "execution_count": 16,
   "metadata": {},
   "outputs": [
    {
     "data": {
      "image/png": "[encoded data removed]",
      "text/plain": [
       "plot without title"
      ]
     },
     "metadata": {},
     "output_type": "display_data"
    }
   ],
   "source": [
    "# Compute feature importance matrix\n",
    "importance_matrix <- xgb.importance(feature.names, model = clf)\n",
    "\n",
    "# Graph important features\n",
    "xgb.plot.importance(importance_matrix[1:10,])"
   ]
  },
  {
   "cell_type": "markdown",
   "metadata": {},
   "source": [
    "### Predict on Test and Check ROC Curve\n",
    "The last step is to check our predictions against the test data set and see how well they did. We always hope that the ROC curve will spike up really high and really quick, but that is not always the case. In our example, we have a decent score with only basic features included in the model. This definitely shows us that we can do the predictions and more time should be invested to make it better."
   ]
  },
  {
   "cell_type": "code",
   "execution_count": 17,
   "metadata": {},
   "outputs": [
    {
     "data": {
      "image/png": "[encoded data removed]",
      "text/plain": [
       "Plot with title \"ROC Curve w/ Thresholds\""
      ]
     },
     "metadata": {},
     "output_type": "display_data"
    }
   ],
   "source": [
    "# Predict on test data\n",
    "preds <- predict(clf, dtest)\n",
    "results <- data.frame(pred=preds, actual=test)\n",
    "\n",
    "# Graph AUC curve\n",
    "library(ROCR)\n",
    "xgb.pred <- prediction(preds, test$target)\n",
    "xgb.perf <- performance(xgb.pred, \"tpr\", \"fpr\")\n",
    "\n",
    "plot(xgb.perf,\n",
    "     avg=\"threshold\",\n",
    "     colorize=TRUE,\n",
    "     lwd=1,\n",
    "     main=\"ROC Curve w/ Thresholds\",\n",
    "     print.cutoffs.at=seq(0, 1, by=0.05),\n",
    "     text.adj=c(-0.5, 0.5),\n",
    "     text.cex=0.5)\n",
    "grid(col=\"lightgray\")\n",
    "axis(1, at=seq(0, 1, by=0.1))\n",
    "axis(2, at=seq(0, 1, by=0.1))\n",
    "abline(v=c(0.1, 0.3, 0.5, 0.7, 0.9), col=\"lightgray\", lty=\"dotted\")\n",
    "abline(h=c(0.1, 0.3, 0.5, 0.7, 0.9), col=\"lightgray\", lty=\"dotted\")\n",
    "lines(x=c(0, 1), y=c(0, 1), col=\"black\", lty=\"dotted\")"
   ]
  },
  {
   "cell_type": "markdown",
   "metadata": {},
   "source": [
    "### What Next?\n",
    "This tutorial got us started with doing geographical time series predictions using crime data. We can see that the predictions are definitely working, but there is more work to be done with creating features. We might want to add in some other features that check a larger area for prior crime occurences. Another useful step would be to change our predictions to run hourly and map squad car patrol routes by time of day. Even if the predictions are not perfect, as long as you are putting a police officer in the general vicinity of a crime then they can respond much faster."
   ]
  },
  {
   "cell_type": "code",
   "execution_count": null,
   "metadata": {},
   "outputs": [],
   "source": []
  }
 ],
 "metadata": {
  "kernelspec": {
   "display_name": "R",
   "language": "R",
   "name": "ir"
  },
  "language_info": {
   "codemirror_mode": "r",
   "file_extension": ".r",
   "mimetype": "text/x-r-source",
   "name": "R",
   "pygments_lexer": "r",
   "version": "3.6.1"
  }
 },
 "nbformat": 4,
 "nbformat_minor": 2
}
